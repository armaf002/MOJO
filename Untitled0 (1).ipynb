{
  "cells": [
    {
      "cell_type": "code",
      "execution_count": 1,
      "metadata": {
        "colab": {
          "base_uri": "https://localhost:8080/"
        },
        "id": "8UVPFibigWoS",
        "outputId": "e82d701c-4b35-4ee0-a9c9-93974a3f6cb5"
      },
      "outputs": [
        {
          "name": "stdout",
          "output_type": "stream",
          "text": [
            "Requirement already satisfied: selenium in /usr/local/python/3.10.8/lib/python3.10/site-packages (3.141.0)\n",
            "Requirement already satisfied: urllib3 in /home/codespace/.local/lib/python3.10/site-packages (from selenium) (2.0.3)\n",
            "Requirement already satisfied: selenium in /usr/local/python/3.10.8/lib/python3.10/site-packages (3.141.0)\n",
            "Requirement already satisfied: urllib3 in /home/codespace/.local/lib/python3.10/site-packages (from selenium) (2.0.3)\n",
            "Reading package lists... Done\n",
            "E: List directory /var/lib/apt/lists/partial is missing. - Acquire (13: Permission denied)\n",
            "\u001b[1;31mE: \u001b[0mCould not open lock file /var/lib/dpkg/lock-frontend - open (13: Permission denied)\u001b[0m\n",
            "\u001b[1;31mE: \u001b[0mUnable to acquire the dpkg frontend lock (/var/lib/dpkg/lock-frontend), are you root?\u001b[0m\n",
            "cp: cannot stat '/usr/lib/chromium-browser/chromedriver': No such file or directory\n"
          ]
        }
      ],
      "source": [
        "!pip install selenium\n",
        "!pip install selenium\n",
        "!apt-get update # to update ubuntu to correctly run apt install\n",
        "!apt install -y chromium-chromedriver\n",
        "!cp /usr/lib/chromium-browser/chromedriver /usr/bin"
      ]
    },
    {
      "cell_type": "code",
      "execution_count": 2,
      "metadata": {
        "colab": {
          "base_uri": "https://localhost:8080/"
        },
        "id": "gajfScZOkhWc",
        "outputId": "58195b21-c0a1-48e0-8a4d-78a2406f979c"
      },
      "outputs": [
        {
          "name": "stdout",
          "output_type": "stream",
          "text": [
            "Requirement already satisfied: webdriver_manager in /usr/local/python/3.10.8/lib/python3.10/site-packages (3.8.6)\n",
            "Requirement already satisfied: requests in /home/codespace/.local/lib/python3.10/site-packages (from webdriver_manager) (2.31.0)\n",
            "Requirement already satisfied: python-dotenv in /usr/local/python/3.10.8/lib/python3.10/site-packages (from webdriver_manager) (1.0.0)\n",
            "Requirement already satisfied: tqdm in /usr/local/python/3.10.8/lib/python3.10/site-packages (from webdriver_manager) (4.64.0)\n",
            "Requirement already satisfied: packaging in /home/codespace/.local/lib/python3.10/site-packages (from webdriver_manager) (23.1)\n",
            "Requirement already satisfied: charset-normalizer<4,>=2 in /home/codespace/.local/lib/python3.10/site-packages (from requests->webdriver_manager) (3.1.0)\n",
            "Requirement already satisfied: idna<4,>=2.5 in /home/codespace/.local/lib/python3.10/site-packages (from requests->webdriver_manager) (3.4)\n",
            "Requirement already satisfied: urllib3<3,>=1.21.1 in /home/codespace/.local/lib/python3.10/site-packages (from requests->webdriver_manager) (2.0.3)\n",
            "Requirement already satisfied: certifi>=2017.4.17 in /home/codespace/.local/lib/python3.10/site-packages (from requests->webdriver_manager) (2023.5.7)\n"
          ]
        }
      ],
      "source": [
        "!pip install webdriver_manager"
      ]
    },
    {
      "cell_type": "code",
      "execution_count": 3,
      "metadata": {},
      "outputs": [
        {
          "name": "stdout",
          "output_type": "stream",
          "text": [
            "Requirement already satisfied: msedge-selenium-tools in /usr/local/python/3.10.8/lib/python3.10/site-packages (3.141.4)\n",
            "Requirement already satisfied: selenium==3.141 in /usr/local/python/3.10.8/lib/python3.10/site-packages (from msedge-selenium-tools) (3.141.0)\n",
            "Requirement already satisfied: urllib3 in /home/codespace/.local/lib/python3.10/site-packages (from selenium==3.141->msedge-selenium-tools) (2.0.3)\n"
          ]
        }
      ],
      "source": [
        "!pip install msedge-selenium-tools\n"
      ]
    },
    {
      "cell_type": "code",
      "execution_count": null,
      "metadata": {
        "colab": {
          "base_uri": "https://localhost:8080/",
          "height": 380
        },
        "id": "DHBkFDHvespV",
        "outputId": "7a79e754-31ba-4dc0-e90b-1063f7ac476a"
      },
      "outputs": [],
      "source": []
    },
    {
      "cell_type": "code",
      "execution_count": 4,
      "metadata": {
        "id": "gFVum-N0xDJK"
      },
      "outputs": [
        {
          "name": "stdout",
          "output_type": "stream",
          "text": [
            "Requirement already satisfied: selenium in /usr/local/python/3.10.8/lib/python3.10/site-packages (3.141.0)\n",
            "Requirement already satisfied: urllib3 in /home/codespace/.local/lib/python3.10/site-packages (from selenium) (2.0.3)\n",
            "Reading package lists... Done\n",
            "E: List directory /var/lib/apt/lists/partial is missing. - Acquire (13: Permission denied)\n",
            "\u001b[1;31mE: \u001b[0mCould not open lock file /var/lib/dpkg/lock-frontend - open (13: Permission denied)\u001b[0m\n",
            "\u001b[1;31mE: \u001b[0mUnable to acquire the dpkg frontend lock (/var/lib/dpkg/lock-frontend), are you root?\u001b[0m\n",
            "cp: cannot stat '/usr/lib/chromium-browser/chromedriver': No such file or directory\n",
            "Requirement already satisfied: webdriver_manager in /usr/local/python/3.10.8/lib/python3.10/site-packages (3.8.6)\n",
            "Requirement already satisfied: requests in /home/codespace/.local/lib/python3.10/site-packages (from webdriver_manager) (2.31.0)\n",
            "Requirement already satisfied: python-dotenv in /usr/local/python/3.10.8/lib/python3.10/site-packages (from webdriver_manager) (1.0.0)\n",
            "Requirement already satisfied: tqdm in /usr/local/python/3.10.8/lib/python3.10/site-packages (from webdriver_manager) (4.64.0)\n",
            "Requirement already satisfied: packaging in /home/codespace/.local/lib/python3.10/site-packages (from webdriver_manager) (23.1)\n",
            "Requirement already satisfied: charset-normalizer<4,>=2 in /home/codespace/.local/lib/python3.10/site-packages (from requests->webdriver_manager) (3.1.0)\n",
            "Requirement already satisfied: idna<4,>=2.5 in /home/codespace/.local/lib/python3.10/site-packages (from requests->webdriver_manager) (3.4)\n",
            "Requirement already satisfied: urllib3<3,>=1.21.1 in /home/codespace/.local/lib/python3.10/site-packages (from requests->webdriver_manager) (2.0.3)\n",
            "Requirement already satisfied: certifi>=2017.4.17 in /home/codespace/.local/lib/python3.10/site-packages (from requests->webdriver_manager) (2023.5.7)\n",
            "Requirement already satisfied: msedge-selenium-tools in /usr/local/python/3.10.8/lib/python3.10/site-packages (3.141.4)\n",
            "Requirement already satisfied: selenium==3.141 in /usr/local/python/3.10.8/lib/python3.10/site-packages (from msedge-selenium-tools) (3.141.0)\n",
            "Requirement already satisfied: urllib3 in /home/codespace/.local/lib/python3.10/site-packages (from selenium==3.141->msedge-selenium-tools) (2.0.3)\n"
          ]
        }
      ],
      "source": [
        "\n",
        "# Path: Untitled0 (1).ipynb\n",
        "!pip install selenium\n",
        "!apt-get update # to update ubuntu to correctly run apt install\n",
        "!apt install -y chromium-chromedriver\n",
        "!cp /usr/lib/chromium-browser/chromedriver /usr/bin\n",
        "!pip install webdriver_manager\n",
        "!pip install msedge-selenium-tools\n",
        "\n",
        "\n",
        "\n",
        "\n",
        "\n"
      ]
    },
    {
      "cell_type": "code",
      "execution_count": null,
      "metadata": {},
      "outputs": [],
      "source": []
    },
    {
      "cell_type": "code",
      "execution_count": 5,
      "metadata": {},
      "outputs": [
        {
          "ename": "WebDriverException",
          "evalue": "Message: 'msedgedriver.exe' executable may have wrong permissions. Please download from http://go.microsoft.com/fwlink/?LinkId=619687\n",
          "output_type": "error",
          "traceback": [
            "\u001b[0;31m---------------------------------------------------------------------------\u001b[0m",
            "\u001b[0;31mPermissionError\u001b[0m                           Traceback (most recent call last)",
            "File \u001b[0;32m~/.python/current/lib/python3.10/site-packages/selenium/webdriver/common/service.py:72\u001b[0m, in \u001b[0;36mService.start\u001b[0;34m(self)\u001b[0m\n\u001b[1;32m     71\u001b[0m     cmd\u001b[39m.\u001b[39mextend(\u001b[39mself\u001b[39m\u001b[39m.\u001b[39mcommand_line_args())\n\u001b[0;32m---> 72\u001b[0m     \u001b[39mself\u001b[39m\u001b[39m.\u001b[39mprocess \u001b[39m=\u001b[39m subprocess\u001b[39m.\u001b[39;49mPopen(cmd, env\u001b[39m=\u001b[39;49m\u001b[39mself\u001b[39;49m\u001b[39m.\u001b[39;49menv,\n\u001b[1;32m     73\u001b[0m                                     close_fds\u001b[39m=\u001b[39;49mplatform\u001b[39m.\u001b[39;49msystem() \u001b[39m!=\u001b[39;49m \u001b[39m'\u001b[39;49m\u001b[39mWindows\u001b[39;49m\u001b[39m'\u001b[39;49m,\n\u001b[1;32m     74\u001b[0m                                     stdout\u001b[39m=\u001b[39;49m\u001b[39mself\u001b[39;49m\u001b[39m.\u001b[39;49mlog_file,\n\u001b[1;32m     75\u001b[0m                                     stderr\u001b[39m=\u001b[39;49m\u001b[39mself\u001b[39;49m\u001b[39m.\u001b[39;49mlog_file,\n\u001b[1;32m     76\u001b[0m                                     stdin\u001b[39m=\u001b[39;49mPIPE)\n\u001b[1;32m     77\u001b[0m \u001b[39mexcept\u001b[39;00m \u001b[39mTypeError\u001b[39;00m:\n",
            "File \u001b[0;32m~/.python/current/lib/python3.10/subprocess.py:971\u001b[0m, in \u001b[0;36mPopen.__init__\u001b[0;34m(self, args, bufsize, executable, stdin, stdout, stderr, preexec_fn, close_fds, shell, cwd, env, universal_newlines, startupinfo, creationflags, restore_signals, start_new_session, pass_fds, user, group, extra_groups, encoding, errors, text, umask, pipesize)\u001b[0m\n\u001b[1;32m    968\u001b[0m             \u001b[39mself\u001b[39m\u001b[39m.\u001b[39mstderr \u001b[39m=\u001b[39m io\u001b[39m.\u001b[39mTextIOWrapper(\u001b[39mself\u001b[39m\u001b[39m.\u001b[39mstderr,\n\u001b[1;32m    969\u001b[0m                     encoding\u001b[39m=\u001b[39mencoding, errors\u001b[39m=\u001b[39merrors)\n\u001b[0;32m--> 971\u001b[0m     \u001b[39mself\u001b[39;49m\u001b[39m.\u001b[39;49m_execute_child(args, executable, preexec_fn, close_fds,\n\u001b[1;32m    972\u001b[0m                         pass_fds, cwd, env,\n\u001b[1;32m    973\u001b[0m                         startupinfo, creationflags, shell,\n\u001b[1;32m    974\u001b[0m                         p2cread, p2cwrite,\n\u001b[1;32m    975\u001b[0m                         c2pread, c2pwrite,\n\u001b[1;32m    976\u001b[0m                         errread, errwrite,\n\u001b[1;32m    977\u001b[0m                         restore_signals,\n\u001b[1;32m    978\u001b[0m                         gid, gids, uid, umask,\n\u001b[1;32m    979\u001b[0m                         start_new_session)\n\u001b[1;32m    980\u001b[0m \u001b[39mexcept\u001b[39;00m:\n\u001b[1;32m    981\u001b[0m     \u001b[39m# Cleanup if the child failed starting.\u001b[39;00m\n",
            "File \u001b[0;32m~/.python/current/lib/python3.10/subprocess.py:1847\u001b[0m, in \u001b[0;36mPopen._execute_child\u001b[0;34m(self, args, executable, preexec_fn, close_fds, pass_fds, cwd, env, startupinfo, creationflags, shell, p2cread, p2cwrite, c2pread, c2pwrite, errread, errwrite, restore_signals, gid, gids, uid, umask, start_new_session)\u001b[0m\n\u001b[1;32m   1846\u001b[0m         err_msg \u001b[39m=\u001b[39m os\u001b[39m.\u001b[39mstrerror(errno_num)\n\u001b[0;32m-> 1847\u001b[0m     \u001b[39mraise\u001b[39;00m child_exception_type(errno_num, err_msg, err_filename)\n\u001b[1;32m   1848\u001b[0m \u001b[39mraise\u001b[39;00m child_exception_type(err_msg)\n",
            "\u001b[0;31mPermissionError\u001b[0m: [Errno 13] Permission denied: '/workspaces/codespaces-jupyter/msedgedriver.exe'",
            "\nDuring handling of the above exception, another exception occurred:\n",
            "\u001b[0;31mWebDriverException\u001b[0m                        Traceback (most recent call last)",
            "Cell \u001b[0;32mIn[5], line 95\u001b[0m\n\u001b[1;32m     92\u001b[0m TOTAL_ENTRIES \u001b[39m=\u001b[39m \u001b[39m20051\u001b[39m  \u001b[39m# insert total number of entries in data set as an integer\u001b[39;00m\n\u001b[1;32m     94\u001b[0m pages_to_scrape \u001b[39m=\u001b[39m \u001b[39mint\u001b[39m(TOTAL_ENTRIES \u001b[39m/\u001b[39m \u001b[39m100\u001b[39m)\n\u001b[0;32m---> 95\u001b[0m driver \u001b[39m=\u001b[39m webdriver\u001b[39m.\u001b[39;49mEdge(executable_path\u001b[39m=\u001b[39;49mEDGE_DRIVER_PATH)\n\u001b[1;32m     96\u001b[0m names \u001b[39m=\u001b[39m []\n\u001b[1;32m     97\u001b[0m addresses \u001b[39m=\u001b[39m []\n",
            "File \u001b[0;32m~/.python/current/lib/python3.10/site-packages/selenium/webdriver/edge/webdriver.py:56\u001b[0m, in \u001b[0;36mWebDriver.__init__\u001b[0;34m(self, executable_path, capabilities, port, verbose, service_log_path, log_path, keep_alive)\u001b[0m\n\u001b[1;32m     53\u001b[0m     \u001b[39mself\u001b[39m\u001b[39m.\u001b[39mport \u001b[39m=\u001b[39m utils\u001b[39m.\u001b[39mfree_port()\n\u001b[1;32m     55\u001b[0m \u001b[39mself\u001b[39m\u001b[39m.\u001b[39medge_service \u001b[39m=\u001b[39m Service(executable_path, port\u001b[39m=\u001b[39m\u001b[39mself\u001b[39m\u001b[39m.\u001b[39mport, verbose\u001b[39m=\u001b[39mverbose, log_path\u001b[39m=\u001b[39mservice_log_path)\n\u001b[0;32m---> 56\u001b[0m \u001b[39mself\u001b[39;49m\u001b[39m.\u001b[39;49medge_service\u001b[39m.\u001b[39;49mstart()\n\u001b[1;32m     58\u001b[0m \u001b[39mif\u001b[39;00m capabilities \u001b[39mis\u001b[39;00m \u001b[39mNone\u001b[39;00m:\n\u001b[1;32m     59\u001b[0m     capabilities \u001b[39m=\u001b[39m DesiredCapabilities\u001b[39m.\u001b[39mEDGE\n",
            "File \u001b[0;32m~/.python/current/lib/python3.10/site-packages/selenium/webdriver/common/service.py:86\u001b[0m, in \u001b[0;36mService.start\u001b[0;34m(self)\u001b[0m\n\u001b[1;32m     81\u001b[0m     \u001b[39mraise\u001b[39;00m WebDriverException(\n\u001b[1;32m     82\u001b[0m         \u001b[39m\"\u001b[39m\u001b[39m'\u001b[39m\u001b[39m%s\u001b[39;00m\u001b[39m'\u001b[39m\u001b[39m executable needs to be in PATH. \u001b[39m\u001b[39m%s\u001b[39;00m\u001b[39m\"\u001b[39m \u001b[39m%\u001b[39m (\n\u001b[1;32m     83\u001b[0m             os\u001b[39m.\u001b[39mpath\u001b[39m.\u001b[39mbasename(\u001b[39mself\u001b[39m\u001b[39m.\u001b[39mpath), \u001b[39mself\u001b[39m\u001b[39m.\u001b[39mstart_error_message)\n\u001b[1;32m     84\u001b[0m     )\n\u001b[1;32m     85\u001b[0m \u001b[39melif\u001b[39;00m err\u001b[39m.\u001b[39merrno \u001b[39m==\u001b[39m errno\u001b[39m.\u001b[39mEACCES:\n\u001b[0;32m---> 86\u001b[0m     \u001b[39mraise\u001b[39;00m WebDriverException(\n\u001b[1;32m     87\u001b[0m         \u001b[39m\"\u001b[39m\u001b[39m'\u001b[39m\u001b[39m%s\u001b[39;00m\u001b[39m'\u001b[39m\u001b[39m executable may have wrong permissions. \u001b[39m\u001b[39m%s\u001b[39;00m\u001b[39m\"\u001b[39m \u001b[39m%\u001b[39m (\n\u001b[1;32m     88\u001b[0m             os\u001b[39m.\u001b[39mpath\u001b[39m.\u001b[39mbasename(\u001b[39mself\u001b[39m\u001b[39m.\u001b[39mpath), \u001b[39mself\u001b[39m\u001b[39m.\u001b[39mstart_error_message)\n\u001b[1;32m     89\u001b[0m     )\n\u001b[1;32m     90\u001b[0m \u001b[39melse\u001b[39;00m:\n\u001b[1;32m     91\u001b[0m     \u001b[39mraise\u001b[39;00m\n",
            "\u001b[0;31mWebDriverException\u001b[0m: Message: 'msedgedriver.exe' executable may have wrong permissions. Please download from http://go.microsoft.com/fwlink/?LinkId=619687\n"
          ]
        }
      ],
      "source": [
        "from selenium import webdriver\n",
        "from selenium.webdriver.common.by import By\n",
        "import time\n",
        "from selenium.webdriver.common.keys import Keys\n",
        "import pandas as pd\n",
        "from datetime import date\n",
        "\n",
        "\n",
        "USERNAME = \"houston@solarpoweringearth.com\" \n",
        "PASSWORD = \"poweringearth123$\" \n",
        "\n",
        "\n",
        "def login(driver):\n",
        "    driver.get(\"https://lb11.mojosells.com/login/?source=www.mojosells.com\")\n",
        "    time.sleep(2)\n",
        "    username = driver.find_element(By.NAME, \"email\")\n",
        "    username.click()\n",
        "    username.send_keys(USERNAME)\n",
        "    username.send_keys(Keys.TAB)\n",
        "    password = driver.find_element(By.NAME, \"password\")\n",
        "    password.click()\n",
        "    password.send_keys(PASSWORD)\n",
        "    password.send_keys(Keys.ENTER)\n",
        "    time.sleep(3)\n",
        "\n",
        "\n",
        "def find_scrape_list(driver):\n",
        "    driver.get('https://app631.mojosells.com/main/?frame=/data_management/')\n",
        "    time.sleep(3)\n",
        "    driver.switch_to.frame('g_site_iframe')\n",
        "    driver.find_element(By.ID, 'list_item_71').click()\n",
        "    time.sleep(1)\n",
        "\n",
        "\n",
        "def find_names(driver, names):\n",
        "    scrape_names = driver.find_elements(By.CLASS_NAME, 'custom_name_full_name')\n",
        "    for name in scrape_names:\n",
        "        names.append(name.text)\n",
        "\n",
        "\n",
        "def find_addresses(driver, addresses, cities, states, zips):\n",
        "    scrape_addresses = driver.find_elements(By.CLASS_NAME, 'custom_name_address')\n",
        "    for address in scrape_addresses:\n",
        "        addresses.append(address.text)\n",
        "    scrape_city = driver.find_elements(By.CLASS_NAME, 'custom_name_city')\n",
        "    for city in scrape_city:\n",
        "        cities.append(city.text)\n",
        "    scrape_state = driver.find_elements(By.CLASS_NAME, 'custom_name_state')\n",
        "    for state in scrape_state:\n",
        "        states.append(state.text)\n",
        "    scrape_zips = driver.find_elements(By.CLASS_NAME, 'custom_name_zip_code')\n",
        "    for zipcode in scrape_zips:\n",
        "        zips.append(zipcode.text)\n",
        "\n",
        "\n",
        "def find_numbers(driver, numbers):\n",
        "    scrape_numbers = driver.find_elements(By.CLASS_NAME, 'custom_name_phone')\n",
        "    for number in scrape_numbers:\n",
        "        numbers.append(number.text)\n",
        "\n",
        "\n",
        "def find_emails(driver, emails):\n",
        "    scrape_emails = driver.find_elements(By.CLASS_NAME, 'custom_name_email')\n",
        "    for email in scrape_emails:\n",
        "        emails.append(email.text)\n",
        "\n",
        "\n",
        "def next_page(driver):\n",
        "    driver.execute_script(\"window.scrollTo(0, document.body.scrollHeight);\")\n",
        "    time.sleep(1)\n",
        "    driver.find_element(By.ID, 'contacts_table_next').click()\n",
        "    time.sleep(2)\n",
        "    driver.execute_script(\"window.scrollTo(0, 0)\")\n",
        "\n",
        "\n",
        "def compile_mojo_data(names, addresses, cities, states, zips, numbers, emails):\n",
        "    today = date.today().strftime(\"%B %d\")\n",
        "    data_dict = {\n",
        "        \"name\": names,\n",
        "        \"address\": addresses,\n",
        "        \"city\": cities,\n",
        "        \"state\": states,\n",
        "        \"zip\": zips,\n",
        "        \"number\": numbers,\n",
        "        \"email\": emails\n",
        "    }\n",
        "    data = pd.DataFrame(data_dict)\n",
        "    data.to_csv(f\"{today}_neighborhood_data.csv\", index=False)\n",
        "\n",
        "\n",
        "EDGE_DRIVER_PATH = \"/workspaces/codespaces-jupyter/msedgedriver.exe\"  # insert the path to the msedgedriver executable\n",
        "TOTAL_ENTRIES = 20051  # insert total number of entries in data set as an integer\n",
        "\n",
        "pages_to_scrape = int(TOTAL_ENTRIES / 100)\n",
        "driver = webdriver.Edge(executable_path=EDGE_DRIVER_PATH)\n",
        "names = []\n",
        "addresses = []\n",
        "cities = []\n",
        "states = []\n",
        "zips = []\n",
        "numbers = []\n",
        "emails = []\n",
        "\n",
        "login(driver)\n",
        "find_scrape_list(driver)\n",
        "\n",
        "for _ in range(pages_to_scrape):\n",
        "    find_names(driver, names)\n"
      ]
    },
    {
      "cell_type": "code",
      "execution_count": 6,
      "metadata": {},
      "outputs": [
        {
          "ename": "WebDriverException",
          "evalue": "Message: 'MicrosoftWebDriver.exe' executable needs to be in PATH. Please download from http://go.microsoft.com/fwlink/?LinkId=619687\n",
          "output_type": "error",
          "traceback": [
            "\u001b[0;31m---------------------------------------------------------------------------\u001b[0m",
            "\u001b[0;31mFileNotFoundError\u001b[0m                         Traceback (most recent call last)",
            "File \u001b[0;32m~/.python/current/lib/python3.10/site-packages/selenium/webdriver/common/service.py:72\u001b[0m, in \u001b[0;36mService.start\u001b[0;34m(self)\u001b[0m\n\u001b[1;32m     71\u001b[0m     cmd\u001b[39m.\u001b[39mextend(\u001b[39mself\u001b[39m\u001b[39m.\u001b[39mcommand_line_args())\n\u001b[0;32m---> 72\u001b[0m     \u001b[39mself\u001b[39m\u001b[39m.\u001b[39mprocess \u001b[39m=\u001b[39m subprocess\u001b[39m.\u001b[39;49mPopen(cmd, env\u001b[39m=\u001b[39;49m\u001b[39mself\u001b[39;49m\u001b[39m.\u001b[39;49menv,\n\u001b[1;32m     73\u001b[0m                                     close_fds\u001b[39m=\u001b[39;49mplatform\u001b[39m.\u001b[39;49msystem() \u001b[39m!=\u001b[39;49m \u001b[39m'\u001b[39;49m\u001b[39mWindows\u001b[39;49m\u001b[39m'\u001b[39;49m,\n\u001b[1;32m     74\u001b[0m                                     stdout\u001b[39m=\u001b[39;49m\u001b[39mself\u001b[39;49m\u001b[39m.\u001b[39;49mlog_file,\n\u001b[1;32m     75\u001b[0m                                     stderr\u001b[39m=\u001b[39;49m\u001b[39mself\u001b[39;49m\u001b[39m.\u001b[39;49mlog_file,\n\u001b[1;32m     76\u001b[0m                                     stdin\u001b[39m=\u001b[39;49mPIPE)\n\u001b[1;32m     77\u001b[0m \u001b[39mexcept\u001b[39;00m \u001b[39mTypeError\u001b[39;00m:\n",
            "File \u001b[0;32m~/.python/current/lib/python3.10/subprocess.py:971\u001b[0m, in \u001b[0;36mPopen.__init__\u001b[0;34m(self, args, bufsize, executable, stdin, stdout, stderr, preexec_fn, close_fds, shell, cwd, env, universal_newlines, startupinfo, creationflags, restore_signals, start_new_session, pass_fds, user, group, extra_groups, encoding, errors, text, umask, pipesize)\u001b[0m\n\u001b[1;32m    968\u001b[0m             \u001b[39mself\u001b[39m\u001b[39m.\u001b[39mstderr \u001b[39m=\u001b[39m io\u001b[39m.\u001b[39mTextIOWrapper(\u001b[39mself\u001b[39m\u001b[39m.\u001b[39mstderr,\n\u001b[1;32m    969\u001b[0m                     encoding\u001b[39m=\u001b[39mencoding, errors\u001b[39m=\u001b[39merrors)\n\u001b[0;32m--> 971\u001b[0m     \u001b[39mself\u001b[39;49m\u001b[39m.\u001b[39;49m_execute_child(args, executable, preexec_fn, close_fds,\n\u001b[1;32m    972\u001b[0m                         pass_fds, cwd, env,\n\u001b[1;32m    973\u001b[0m                         startupinfo, creationflags, shell,\n\u001b[1;32m    974\u001b[0m                         p2cread, p2cwrite,\n\u001b[1;32m    975\u001b[0m                         c2pread, c2pwrite,\n\u001b[1;32m    976\u001b[0m                         errread, errwrite,\n\u001b[1;32m    977\u001b[0m                         restore_signals,\n\u001b[1;32m    978\u001b[0m                         gid, gids, uid, umask,\n\u001b[1;32m    979\u001b[0m                         start_new_session)\n\u001b[1;32m    980\u001b[0m \u001b[39mexcept\u001b[39;00m:\n\u001b[1;32m    981\u001b[0m     \u001b[39m# Cleanup if the child failed starting.\u001b[39;00m\n",
            "File \u001b[0;32m~/.python/current/lib/python3.10/subprocess.py:1847\u001b[0m, in \u001b[0;36mPopen._execute_child\u001b[0;34m(self, args, executable, preexec_fn, close_fds, pass_fds, cwd, env, startupinfo, creationflags, shell, p2cread, p2cwrite, c2pread, c2pwrite, errread, errwrite, restore_signals, gid, gids, uid, umask, start_new_session)\u001b[0m\n\u001b[1;32m   1846\u001b[0m         err_msg \u001b[39m=\u001b[39m os\u001b[39m.\u001b[39mstrerror(errno_num)\n\u001b[0;32m-> 1847\u001b[0m     \u001b[39mraise\u001b[39;00m child_exception_type(errno_num, err_msg, err_filename)\n\u001b[1;32m   1848\u001b[0m \u001b[39mraise\u001b[39;00m child_exception_type(err_msg)\n",
            "\u001b[0;31mFileNotFoundError\u001b[0m: [Errno 2] No such file or directory: 'MicrosoftWebDriver.exe'",
            "\nDuring handling of the above exception, another exception occurred:\n",
            "\u001b[0;31mWebDriverException\u001b[0m                        Traceback (most recent call last)",
            "Cell \u001b[0;32mIn[6], line 1\u001b[0m\n\u001b[0;32m----> 1\u001b[0m webdriver\u001b[39m.\u001b[39;49mEdge()\n",
            "File \u001b[0;32m~/.python/current/lib/python3.10/site-packages/selenium/webdriver/edge/webdriver.py:56\u001b[0m, in \u001b[0;36mWebDriver.__init__\u001b[0;34m(self, executable_path, capabilities, port, verbose, service_log_path, log_path, keep_alive)\u001b[0m\n\u001b[1;32m     53\u001b[0m     \u001b[39mself\u001b[39m\u001b[39m.\u001b[39mport \u001b[39m=\u001b[39m utils\u001b[39m.\u001b[39mfree_port()\n\u001b[1;32m     55\u001b[0m \u001b[39mself\u001b[39m\u001b[39m.\u001b[39medge_service \u001b[39m=\u001b[39m Service(executable_path, port\u001b[39m=\u001b[39m\u001b[39mself\u001b[39m\u001b[39m.\u001b[39mport, verbose\u001b[39m=\u001b[39mverbose, log_path\u001b[39m=\u001b[39mservice_log_path)\n\u001b[0;32m---> 56\u001b[0m \u001b[39mself\u001b[39;49m\u001b[39m.\u001b[39;49medge_service\u001b[39m.\u001b[39;49mstart()\n\u001b[1;32m     58\u001b[0m \u001b[39mif\u001b[39;00m capabilities \u001b[39mis\u001b[39;00m \u001b[39mNone\u001b[39;00m:\n\u001b[1;32m     59\u001b[0m     capabilities \u001b[39m=\u001b[39m DesiredCapabilities\u001b[39m.\u001b[39mEDGE\n",
            "File \u001b[0;32m~/.python/current/lib/python3.10/site-packages/selenium/webdriver/common/service.py:81\u001b[0m, in \u001b[0;36mService.start\u001b[0;34m(self)\u001b[0m\n\u001b[1;32m     79\u001b[0m \u001b[39mexcept\u001b[39;00m \u001b[39mOSError\u001b[39;00m \u001b[39mas\u001b[39;00m err:\n\u001b[1;32m     80\u001b[0m     \u001b[39mif\u001b[39;00m err\u001b[39m.\u001b[39merrno \u001b[39m==\u001b[39m errno\u001b[39m.\u001b[39mENOENT:\n\u001b[0;32m---> 81\u001b[0m         \u001b[39mraise\u001b[39;00m WebDriverException(\n\u001b[1;32m     82\u001b[0m             \u001b[39m\"\u001b[39m\u001b[39m'\u001b[39m\u001b[39m%s\u001b[39;00m\u001b[39m'\u001b[39m\u001b[39m executable needs to be in PATH. \u001b[39m\u001b[39m%s\u001b[39;00m\u001b[39m\"\u001b[39m \u001b[39m%\u001b[39m (\n\u001b[1;32m     83\u001b[0m                 os\u001b[39m.\u001b[39mpath\u001b[39m.\u001b[39mbasename(\u001b[39mself\u001b[39m\u001b[39m.\u001b[39mpath), \u001b[39mself\u001b[39m\u001b[39m.\u001b[39mstart_error_message)\n\u001b[1;32m     84\u001b[0m         )\n\u001b[1;32m     85\u001b[0m     \u001b[39melif\u001b[39;00m err\u001b[39m.\u001b[39merrno \u001b[39m==\u001b[39m errno\u001b[39m.\u001b[39mEACCES:\n\u001b[1;32m     86\u001b[0m         \u001b[39mraise\u001b[39;00m WebDriverException(\n\u001b[1;32m     87\u001b[0m             \u001b[39m\"\u001b[39m\u001b[39m'\u001b[39m\u001b[39m%s\u001b[39;00m\u001b[39m'\u001b[39m\u001b[39m executable may have wrong permissions. \u001b[39m\u001b[39m%s\u001b[39;00m\u001b[39m\"\u001b[39m \u001b[39m%\u001b[39m (\n\u001b[1;32m     88\u001b[0m                 os\u001b[39m.\u001b[39mpath\u001b[39m.\u001b[39mbasename(\u001b[39mself\u001b[39m\u001b[39m.\u001b[39mpath), \u001b[39mself\u001b[39m\u001b[39m.\u001b[39mstart_error_message)\n\u001b[1;32m     89\u001b[0m         )\n",
            "\u001b[0;31mWebDriverException\u001b[0m: Message: 'MicrosoftWebDriver.exe' executable needs to be in PATH. Please download from http://go.microsoft.com/fwlink/?LinkId=619687\n"
          ]
        }
      ],
      "source": []
    },
    {
      "cell_type": "code",
      "execution_count": null,
      "metadata": {},
      "outputs": [],
      "source": []
    }
  ],
  "metadata": {
    "colab": {
      "provenance": []
    },
    "kernelspec": {
      "display_name": "Python 3",
      "name": "python3"
    },
    "language_info": {
      "codemirror_mode": {
        "name": "ipython",
        "version": 3
      },
      "file_extension": ".py",
      "mimetype": "text/x-python",
      "name": "python",
      "nbconvert_exporter": "python",
      "pygments_lexer": "ipython3",
      "version": "3.10.8"
    }
  },
  "nbformat": 4,
  "nbformat_minor": 0
}
